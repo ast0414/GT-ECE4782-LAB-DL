{
 "cells": [
  {
   "cell_type": "markdown",
   "metadata": {},
   "source": [
    "# ECE4782 Deep Learning Labs\n",
    "## 3. Recurrent Neural Networks\n",
    "\n",
    "In this chapter, we will learn how to implement a recurrent neural network by using PyTorch."
   ]
  },
  {
   "cell_type": "markdown",
   "metadata": {},
   "source": [
    "#### 0. Prepare Data"
   ]
  },
  {
   "cell_type": "markdown",
   "metadata": {},
   "source": [
    "The same dateset we used in the previous chapter of CNN will be used."
   ]
  },
  {
   "cell_type": "code",
   "execution_count": 1,
   "metadata": {},
   "outputs": [
    {
     "name": "stdout",
     "output_type": "stream",
     "text": [
      "[[ -75  -77  -88 ...  -66  -69  -80]\n",
      " [ -49  -48  -44 ...  -46  -46  -43]\n",
      " [ -33  -42  -50 ... -139 -144 -142]\n",
      " ...\n",
      " [  66   10  -22 ...  -44  -41  -41]\n",
      " [ -48  -56  -72 ... -173 -159 -147]\n",
      " [ -69  -23   32 ...   64  120  142]]\n",
      "(7360, 178)\n"
     ]
    }
   ],
   "source": [
    "import pandas as pd\n",
    "from sklearn.model_selection import train_test_split\n",
    "\n",
    "df = pd.read_csv('seizure.csv')\n",
    "labels = df['y'].values\n",
    "labels = labels - 1\n",
    "data = df.loc[:, 'X1':'X178'].values\n",
    "\n",
    "X_train, X_test, y_train, y_test = train_test_split(data, labels, test_size=0.2, random_state=4782)\n",
    "X_train, X_valid, y_train, y_valid = train_test_split(X_train, y_train, test_size=0.2, random_state=4782)\n",
    "\n",
    "print(X_train)\n",
    "print(X_train.shape)"
   ]
  },
  {
   "cell_type": "markdown",
   "metadata": {},
   "source": [
    "#### 1. Loading Datasets\n",
    "Shape of input tensor is (batch, seq_len, input_size), different from the one used for CNN in the previous chapter. In fact, the default shape of input for recurrent layer modules in PyTorch such as RNN, GRU, and LSTM is (seq_len, batch, input_size). You can choose your preferred shape, but **do not forget to set proper boolean value for `batch_first` argument for recurrent layer modules**.\n",
    "\n",
    "As our current dataset has a shape of (num_subject, seq_len) and each time step has 1D signal, we need to add a dummy axis to make it as a 3D tensor. In the following codes, you can see `unsqueeze(dim)` function on Tensor which adds a new axis (dimension)."
   ]
  },
  {
   "cell_type": "code",
   "execution_count": 2,
   "metadata": {},
   "outputs": [],
   "source": [
    "import torch\n",
    "from torch.utils.data import DataLoader, TensorDataset\n",
    "\n",
    "# lets fix the random seeds for reproducibility.\n",
    "torch.manual_seed(4782)\n",
    "if torch.cuda.is_available():\n",
    "    torch.cuda.manual_seed(4782)\n",
    "\n",
    "trainset = TensorDataset(torch.from_numpy(X_train.astype('float32')).unsqueeze(2), torch.from_numpy(y_train.astype('long')))\n",
    "trainloader = torch.utils.data.DataLoader(trainset, batch_size=10, shuffle=True, num_workers=2)\n",
    "\n",
    "validset = TensorDataset(torch.from_numpy(X_valid.astype('float32')).unsqueeze(2), torch.from_numpy(y_valid.astype('long')))\n",
    "validloader = torch.utils.data.DataLoader(validset, batch_size=10, shuffle=False, num_workers=2)\n",
    "\n",
    "testset = TensorDataset(torch.from_numpy(X_test.astype('float32')).unsqueeze(2), torch.from_numpy(y_test.astype('long')))\n",
    "testloader = torch.utils.data.DataLoader(testset, batch_size=10, shuffle=False, num_workers=2)\n",
    "\n",
    "classes = ('Seizure', 'TumorArea', 'HealthyArea', 'EyesClosed', 'EyesOpen')"
   ]
  },
  {
   "cell_type": "markdown",
   "metadata": {},
   "source": [
    "#### 2. Define RNN class"
   ]
  },
  {
   "cell_type": "code",
   "execution_count": 3,
   "metadata": {},
   "outputs": [],
   "source": [
    "from torch.autograd import Variable\n",
    "import torch.nn as nn\n",
    "import torch.nn.functional as F\n",
    "\n",
    "class RecurNet(nn.Module):\n",
    "    def __init__(self):\n",
    "        super(RecurNet, self).__init__()\n",
    "        self.rnn = nn.GRU(input_size=1, hidden_size=32, num_layers=2, batch_first=True, dropout=0.5)\n",
    "        self.fc = nn.Linear(in_features=32, out_features=5)\n",
    "\n",
    "    def forward(self, x):\n",
    "        x, _ = self.rnn(x)\n",
    "        x = self.fc(x[:, -1, :])\n",
    "        return x\n",
    "\n",
    "\n",
    "model = RecurNet()"
   ]
  },
  {
   "cell_type": "markdown",
   "metadata": {},
   "source": [
    "Again, let's define a class for our model. In this tutorial we use one of gated units, Gated Recurrent Unit (GRU), as our recurrent layer. `nn.GRU` is a implementatoin of (multi-layered) GRU. 'multi-layered' means you can easily define several layers of GRU by putting the number of layers as input argument for `num_layers`. On the other hand, `nn.GRUCell` can be used when you want to construct more complex architecture between each recurrent layer. We use 2-layers of GRU for this tutorial.\n",
    "\n",
    "**Note again that, we need to carefully set the value for `batch_first` for all types of RNN module.**\n",
    "\n",
    "At line 9, we retrieve the hidden unit outputs from the last recurrent layer for the last time step. To be specific, `nn.GRU` returns an tuple of `output, h_n` where `output` is the output value of hidden units from the last layer for **ALL** time steps and `h_n` is the same value for the last time step only. Therefore, `x, _ = self.rnn(x)` at line 8, we get a Tensor `x` in a shape of (batch, seq_len, hidden_size) since we set `batch_first=True`. We then extract the values for the last time step by `x[:, -1, :]`. If we set `batch_first=False`, indexing should be modified also.\n",
    "\n",
    "We add a fully-connected layer on the top of the recurrent layers. "
   ]
  },
  {
   "cell_type": "markdown",
   "metadata": {},
   "source": [
    "#### 3. Define a Loss function and optimizer"
   ]
  },
  {
   "cell_type": "code",
   "execution_count": 4,
   "metadata": {},
   "outputs": [],
   "source": [
    "import torch.optim as optim\n",
    "\n",
    "criterion = nn.CrossEntropyLoss()\n",
    "optimizer = optim.Adam(model.parameters())"
   ]
  },
  {
   "cell_type": "markdown",
   "metadata": {},
   "source": [
    "We use the same loss function and the same optimizer from the previous chapter."
   ]
  },
  {
   "cell_type": "markdown",
   "metadata": {},
   "source": [
    "#### 4. Train the network\n",
    "Also, we can use the same procedure for training the network."
   ]
  },
  {
   "cell_type": "code",
   "execution_count": 5,
   "metadata": {},
   "outputs": [
    {
     "name": "stdout",
     "output_type": "stream",
     "text": [
      "epoch 0: train loss 1.1584133819231521, validation loss 0.942846356526665\n",
      "epoch 1: train loss 0.9103764427987777, validation loss 0.7842161371980024\n",
      "epoch 2: train loss 0.7801736981769942, validation loss 0.7254805933360172\n",
      "epoch 3: train loss 0.7450974498591993, validation loss 0.7716598787709422\n",
      "epoch 4: train loss 0.7197924660842704, validation loss 0.727915875694674\n",
      "epoch 5: train loss 0.6968295705383238, validation loss 0.6473826323028492\n",
      "epoch 6: train loss 0.6818224801580705, validation loss 0.7010008606087902\n",
      "epoch 7: train loss 0.6690982481586221, validation loss 0.6727589880642684\n",
      "epoch 8: train loss 0.6604949179226938, validation loss 0.6632766154311274\n",
      "epoch 9: train loss 0.6506587659899631, validation loss 0.6295573437667411\n",
      "epoch 10: train loss 0.6463007195650236, validation loss 0.6494203240651152\n",
      "epoch 11: train loss 0.6381759897238858, validation loss 0.6430701472513054\n",
      "epoch 12: train loss 0.6279869884576487, validation loss 0.6308755788790144\n",
      "epoch 13: train loss 0.6211392265116877, validation loss 0.6302623563324627\n",
      "epoch 14: train loss 0.6147718168187725, validation loss 0.6266329310348501\n",
      "Finished Training\n"
     ]
    }
   ],
   "source": [
    "cuda = torch.cuda.is_available()\n",
    "if cuda:\n",
    "    model = model.cuda()\n",
    "\n",
    "train_losses = []\n",
    "valid_losses = []\n",
    "\n",
    "for epoch in range(15):  # loop over the dataset multiple times\n",
    "\n",
    "    # set the model as train mode\n",
    "    model.train()\n",
    "    train_loss = 0.0\n",
    "    train_counter = 0\n",
    "    for i, data in enumerate(trainloader, 0):\n",
    "        # get the inputs\n",
    "        inputs, targets = data\n",
    "\n",
    "        if cuda:\n",
    "            inputs, targets = inputs.cuda(), targets.cuda()\n",
    "\n",
    "        # zero the parameter gradients\n",
    "        optimizer.zero_grad()\n",
    "\n",
    "        # forward + backward + optimize\n",
    "        outputs = model(inputs)\n",
    "        loss = criterion(outputs, targets)\n",
    "        loss.backward()\n",
    "        optimizer.step()\n",
    "        \n",
    "        train_loss += (loss.item() * inputs.size(0))\n",
    "        train_counter += inputs.size(0)\n",
    "\n",
    "    train_losses.append(train_loss/train_counter)\n",
    "    \n",
    "    # switch to evaluation mode\n",
    "    model.eval()\n",
    "    valid_loss = 0.0\n",
    "    valid_counter = 0\n",
    "    with torch.no_grad():\n",
    "        for i, data in enumerate(validloader, 0):\n",
    "            # get the inputs\n",
    "            inputs, targets = data\n",
    "\n",
    "            if cuda:\n",
    "                inputs, targets = inputs.cuda(), targets.cuda()\n",
    "\n",
    "            outputs = model(inputs)\n",
    "            loss = criterion(outputs, targets)\n",
    "\n",
    "            valid_loss += (loss.item() * inputs.size(0))\n",
    "            valid_counter += inputs.size(0)\n",
    "    valid_losses.append(valid_loss/valid_counter)\n",
    "    \n",
    "    print(\"epoch {}: train loss {}, validation loss {}\".format(epoch, train_losses[-1], valid_losses[-1]))\n",
    "    \n",
    "print('Finished Training')"
   ]
  },
  {
   "cell_type": "markdown",
   "metadata": {},
   "source": [
    "We should check the learning curve always!"
   ]
  },
  {
   "cell_type": "code",
   "execution_count": 6,
   "metadata": {},
   "outputs": [
    {
     "data": {
      "text/plain": [
       "<matplotlib.legend.Legend at 0x7feed053fee0>"
      ]
     },
     "execution_count": 6,
     "metadata": {},
     "output_type": "execute_result"
    },
    {
     "data": {
      "image/png": "[encoded data removed]",
      "text/plain": [
       "<Figure size 432x288 with 1 Axes>"
      ]
     },
     "metadata": {
      "needs_background": "light"
     },
     "output_type": "display_data"
    }
   ],
   "source": [
    "%matplotlib inline\n",
    "import numpy as np\n",
    "import matplotlib.pyplot as plt\n",
    "\n",
    "plt.figure()\n",
    "plt.plot(np.arange(len(train_losses)), train_losses, label='Train')\n",
    "plt.plot(np.arange(len(valid_losses)), valid_losses, label='Validation')\n",
    "plt.ylabel('Loss')\n",
    "plt.xlabel('epoch')\n",
    "plt.legend(loc=\"best\")"
   ]
  },
  {
   "cell_type": "markdown",
   "metadata": {},
   "source": [
    "#### 5. Test the network on the test data"
   ]
  },
  {
   "cell_type": "code",
   "execution_count": 7,
   "metadata": {},
   "outputs": [
    {
     "name": "stdout",
     "output_type": "stream",
     "text": [
      "Accuracy of Seizure : 93% out of 497 cases\n",
      "Accuracy of TumorArea : 56% out of 448 cases\n",
      "Accuracy of HealthyArea : 52% out of 431 cases\n",
      "Accuracy of EyesClosed : 62% out of 464 cases\n",
      "Accuracy of EyesOpen : 83% out of 460 cases\n"
     ]
    }
   ],
   "source": [
    "class_correct = list(0. for i in range(len(classes)))\n",
    "class_total = list(0. for i in range(len(classes)))\n",
    "with torch.no_grad():\n",
    "    for data in testloader:\n",
    "        # get the inputs\n",
    "        inputs, targets = data\n",
    "\n",
    "        if cuda:\n",
    "            inputs, targets = inputs.cuda(), targets.cuda()\n",
    "\n",
    "        outputs = model(inputs)\n",
    "        _, predicted = torch.max(outputs.data, 1)        \n",
    "        c = (predicted == targets).squeeze()\n",
    "        for i, label in enumerate(targets):\n",
    "            class_correct[label] += c[i].item()\n",
    "            class_total[label] += 1\n",
    "\n",
    "for i in range(len(classes)):\n",
    "    print('Accuracy of %s : %2d%% out of %d cases' % (classes[i], 100 * class_correct[i] / class_total[i], class_total[i]))"
   ]
  },
  {
   "cell_type": "markdown",
   "metadata": {},
   "source": [
    "Congratulations! We have completed the example of recurrent neural network!\n",
    "\n",
    "We will try another way of using RNN in the next chapter with a slightly more complicated example."
   ]
  },
  {
   "cell_type": "markdown",
   "metadata": {},
   "source": [
    "### Exercise 1. Try to use different type of RNN cell (e.g. LSTM)"
   ]
  },
  {
   "cell_type": "markdown",
   "metadata": {},
   "source": [
    "### Exercise 2. How do you compare the result with the one by CNN in the previous chapter? What about computation time?"
   ]
  }
 ],
 "metadata": {
  "kernelspec": {
   "display_name": "Python 3",
   "language": "python",
   "name": "python3"
  },
  "language_info": {
   "codemirror_mode": {
    "name": "ipython",
    "version": 3
   },
   "file_extension": ".py",
   "mimetype": "text/x-python",
   "name": "python",
   "nbconvert_exporter": "python",
   "pygments_lexer": "ipython3",
   "version": "3.8.5"
  }
 },
 "nbformat": 4,
 "nbformat_minor": 4
}
